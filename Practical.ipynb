{
 "cells": [
  {
   "cell_type": "markdown",
   "id": "34040197-d9ab-45a6-b195-77a4dc679554",
   "metadata": {},
   "source": [
    "Q1. Create a 3x3 NumPy array with random integers between 1 and 100. Then, interchange its rows and columns."
   ]
  },
  {
   "cell_type": "code",
   "execution_count": 2,
   "id": "afd4e8e1-c0ea-4cfe-a758-fb58d01306d3",
   "metadata": {},
   "outputs": [
    {
     "name": "stdout",
     "output_type": "stream",
     "text": [
      "Original array:\n",
      "[[21  5 87]\n",
      " [59 82  4]\n",
      " [71  3 73]]\n",
      "Interchanged array:\n",
      "[[21 59 71]\n",
      " [ 5 82  3]\n",
      " [87  4 73]]\n"
     ]
    }
   ],
   "source": [
    "import numpy as np\n",
    "array = np.random.randint(1, 101, (3, 3))\n",
    "print(\"Original array:\")\n",
    "print(array)\n",
    "interchanged_array = array.T\n",
    "print(\"Interchanged array:\")\n",
    "print(interchanged_array)"
   ]
  },
  {
   "cell_type": "markdown",
   "id": "780e15ad-7dbe-4f21-a58a-fcb39e8a5dad",
   "metadata": {},
   "source": [
    "Q2. Generate a 1D NumPy array with 10 elements. Reshape it into a 2x5 array, then into a 5x2 array."
   ]
  },
  {
   "cell_type": "code",
   "execution_count": 4,
   "id": "9c5fa5fc-ce6c-424e-99aa-f0bfb37d8ec2",
   "metadata": {},
   "outputs": [
    {
     "name": "stdout",
     "output_type": "stream",
     "text": [
      "Original array:\n",
      "[43 27 89 72  3  4 54 79 11 93]\n",
      "Reshaped 2x5 array:\n",
      "[[43 27 89 72  3]\n",
      " [ 4 54 79 11 93]]\n",
      "Reshaped 5x2 array:\n",
      "[[43 27]\n",
      " [89 72]\n",
      " [ 3  4]\n",
      " [54 79]\n",
      " [11 93]]\n"
     ]
    }
   ],
   "source": [
    "import numpy as np\n",
    "array = np.random.randint(1, 101, 10 )\n",
    "print(\"Original array:\")\n",
    "print(array)\n",
    "array_2x5 = array.reshape(2, 5)\n",
    "print(\"Reshaped 2x5 array:\")\n",
    "print(array_2x5)\n",
    "array_5x2 = array.reshape(5, 2)\n",
    "print(\"Reshaped 5x2 array:\")\n",
    "print(array_5x2)"
   ]
  },
  {
   "cell_type": "markdown",
   "id": "2c3d49b3-70dc-4757-a144-5df9ebced5f6",
   "metadata": {},
   "source": [
    "Q3. Create a 4x4 NumPy array with random float values. Add a border of zeros around it, resulting in a 6x6 array."
   ]
  },
  {
   "cell_type": "code",
   "execution_count": 6,
   "id": "3498663c-002c-496e-9ab2-3c8b625619f9",
   "metadata": {},
   "outputs": [
    {
     "name": "stdout",
     "output_type": "stream",
     "text": [
      "Original array:\n",
      "[[0.99156608 0.07408077 0.74680127 0.33117556]\n",
      " [0.67454233 0.76836061 0.21023058 0.01430568]\n",
      " [0.54824889 0.29683324 0.53276427 0.16559457]\n",
      " [0.22059562 0.99289484 0.66860454 0.83734327]]\n",
      "Bordered array:\n",
      "[[0.         0.         0.         0.         0.         0.        ]\n",
      " [0.         0.99156608 0.07408077 0.74680127 0.33117556 0.        ]\n",
      " [0.         0.67454233 0.76836061 0.21023058 0.01430568 0.        ]\n",
      " [0.         0.54824889 0.29683324 0.53276427 0.16559457 0.        ]\n",
      " [0.         0.22059562 0.99289484 0.66860454 0.83734327 0.        ]\n",
      " [0.         0.         0.         0.         0.         0.        ]]\n"
     ]
    }
   ],
   "source": [
    "import numpy as np\n",
    "array = np.random.rand(4, 4)\n",
    "print(\"Original array:\")\n",
    "print(array)\n",
    "bordered_array = np.pad(array, pad_width=1, mode='constant', constant_values=0)\n",
    "print(\"Bordered array:\")\n",
    "print(bordered_array)"
   ]
  },
  {
   "cell_type": "markdown",
   "id": "72eeccab-21c7-47a8-889e-664c252875cb",
   "metadata": {},
   "source": [
    "Q4. Using NumPy, create an array of integers from 10 to 60 with a step of 5."
   ]
  },
  {
   "cell_type": "code",
   "execution_count": 8,
   "id": "05ea3d11-4b03-4281-8e4b-81097a314641",
   "metadata": {},
   "outputs": [
    {
     "name": "stdout",
     "output_type": "stream",
     "text": [
      "[10 15 20 25 30]\n"
     ]
    }
   ],
   "source": [
    "import numpy as np\n",
    "\n",
    "array = np.arange(10, 31, 5)\n",
    "print(array)"
   ]
  },
  {
   "cell_type": "markdown",
   "id": "8fd0e9e4-06fb-4071-bc83-bc92b12ea1d7",
   "metadata": {},
   "source": [
    "Q5.Create a NumPy array of strings ['python', 'numpy', 'pandas']. Apply different case transformations (uppercase, lowercase, title case, etc.) to each element."
   ]
  },
  {
   "cell_type": "code",
   "execution_count": 11,
   "id": "db921cfa-1f07-47b0-b8c3-99b9e292b580",
   "metadata": {},
   "outputs": [
    {
     "name": "stdout",
     "output_type": "stream",
     "text": [
      "Uppercase: ['PYTHON', 'NUMPY', 'PANDAS']\n",
      "Lowercase: ['python', 'numpy', 'pandas']\n",
      "Titlecase: ['Python', 'Numpy', 'Pandas']\n"
     ]
    }
   ],
   "source": [
    "import numpy as np\n",
    "strings = np.array(['python', 'numpy', 'pandas'])\n",
    "uppercase_strings = [string.upper() for string in strings]\n",
    "print(\"Uppercase:\", uppercase_strings)\n",
    "lowercase_strings = [string.lower() for string in strings]\n",
    "print(\"Lowercase:\", lowercase_strings)\n",
    "titlecase_strings = [string.title() for string in strings]\n",
    "print(\"Titlecase:\", titlecase_strings)"
   ]
  },
  {
   "cell_type": "markdown",
   "id": "41946816-8216-4831-abe0-4f005d971890",
   "metadata": {},
   "source": [
    "Q6. Generate a NumPy array of words. Insert a space between each character of every word in the array."
   ]
  },
  {
   "cell_type": "code",
   "execution_count": 12,
   "id": "128257ff-3a59-484c-9956-c8b939c1a516",
   "metadata": {},
   "outputs": [
    {
     "name": "stdout",
     "output_type": "stream",
     "text": [
      "['a p p l e' 'b a n a n a' 'c h e r r y']\n"
     ]
    }
   ],
   "source": [
    "import numpy as np\n",
    "words = np.array([\"apple\", \"banana\", \"cherry\"])\n",
    "spaced_words = np.char.join(\" \", words)\n",
    "print(spaced_words)"
   ]
  },
  {
   "cell_type": "markdown",
   "id": "8d2d2468-8246-4332-902c-74f27c1f4e0c",
   "metadata": {},
   "source": [
    "Q7. Create two 2D NumPy arrays and perform element-wise addition, subtraction, multiplication, and division."
   ]
  },
  {
   "cell_type": "code",
   "execution_count": 13,
   "id": "cc19dcd2-704f-4b1d-b6a5-b0f917192ef1",
   "metadata": {},
   "outputs": [
    {
     "name": "stdout",
     "output_type": "stream",
     "text": [
      "Addition:\n",
      " [[ 8 10 12]\n",
      " [14 16 18]]\n",
      "Subtraction:\n",
      " [[-6 -6 -6]\n",
      " [-6 -6 -6]]\n",
      "Multiplication:\n",
      " [[ 7 16 27]\n",
      " [40 55 72]]\n",
      "Division:\n",
      " [[0.14285714 0.25       0.33333333]\n",
      " [0.4        0.45454545 0.5       ]]\n"
     ]
    }
   ],
   "source": [
    "import numpy as np\n",
    "array1 = np.array([[1, 2, 3], [4, 5, 6]])\n",
    "array2 = np.array([[7, 8, 9], [10, 11, 12]])\n",
    "addition = array1 + array2\n",
    "print(\"Addition:\\n\", addition)\n",
    "subtraction = array1 - array2\n",
    "print(\"Subtraction:\\n\", subtraction)\n",
    "multiplication = array1 * array2\n",
    "print(\"Multiplication:\\n\", multiplication)\n",
    "division = array1 / array2\n",
    "print(\"Division:\\n\", division)"
   ]
  },
  {
   "cell_type": "markdown",
   "id": "556af310-21fe-41f3-93af-0105b20b760f",
   "metadata": {},
   "source": [
    "Q8. Use NumPy to create a 5x5 identity matrix, then extract its diagonal elements."
   ]
  },
  {
   "cell_type": "code",
   "execution_count": 14,
   "id": "b5ba2a2c-2e8e-4213-a166-63cf97590322",
   "metadata": {},
   "outputs": [
    {
     "name": "stdout",
     "output_type": "stream",
     "text": [
      "Identity Matrix:\n",
      " [[1. 0. 0. 0. 0.]\n",
      " [0. 1. 0. 0. 0.]\n",
      " [0. 0. 1. 0. 0.]\n",
      " [0. 0. 0. 1. 0.]\n",
      " [0. 0. 0. 0. 1.]]\n",
      "Diagonal Elements: [1. 1. 1. 1. 1.]\n"
     ]
    }
   ],
   "source": [
    "import numpy as np\n",
    "identity_matrix = np.eye(5)\n",
    "diagonal_elements = identity_matrix.diagonal()\n",
    "print(\"Identity Matrix:\\n\", identity_matrix)\n",
    "print(\"Diagonal Elements:\", diagonal_elements)"
   ]
  },
  {
   "cell_type": "markdown",
   "id": "2773604e-160e-410c-8df8-daa674240330",
   "metadata": {},
   "source": [
    "Q9. Generate a NumPy array of 100 random integers between 0 and 1000. Find and display all prime numbers in \n",
    "this array."
   ]
  },
  {
   "cell_type": "code",
   "execution_count": 15,
   "id": "b414540a-bf66-4f0a-a391-454192a56892",
   "metadata": {},
   "outputs": [
    {
     "name": "stdout",
     "output_type": "stream",
     "text": [
      "Prime numbers in the array: [617, 499, 727, 659, 43, 733, 31, 647, 907, 719, 659, 761, 863, 631, 113, 401, 263]\n"
     ]
    }
   ],
   "source": [
    "import numpy as np\n",
    "\n",
    "def is_prime(num):\n",
    "  \"\"\"Checks if a number is prime.\"\"\"\n",
    "  if num <= 1:\n",
    "    return False\n",
    "  if num <= 3:\n",
    "    return True\n",
    "  if num % 2 == 0 or num % 3 == 0:\n",
    "    return False\n",
    "  i = 5\n",
    "  while i * i <= num:\n",
    "    if num % i == 0 or num % (i + 2) == 0:\n",
    "      return False\n",
    "    i += 6\n",
    "  return True\n",
    "\n",
    "# Generate a NumPy array of 100 random integers between 0 and 1000\n",
    "random_integers = np.random.randint(0, 1001, 100)\n",
    "\n",
    "# Find prime numbers in the array\n",
    "prime_numbers = [num for num in random_integers if is_prime(num)]\n",
    "\n",
    "# Display prime numbers\n",
    "print(\"Prime numbers in the array:\", prime_numbers)"
   ]
  },
  {
   "cell_type": "markdown",
   "id": "44100a25-2355-489d-bcb3-dd4ae9071739",
   "metadata": {},
   "source": [
    "Q10. Create a NumPy array representing daily temperatures for a month. Calculate and display the weekly \n",
    "averages."
   ]
  },
  {
   "cell_type": "code",
   "execution_count": 16,
   "id": "c3e66607-4aa0-48a6-a6d8-d877fb983b1e",
   "metadata": {},
   "outputs": [
    {
     "ename": "ValueError",
     "evalue": "cannot reshape array of size 32 into shape (7)",
     "output_type": "error",
     "traceback": [
      "\u001b[0;31m---------------------------------------------------------------------------\u001b[0m",
      "\u001b[0;31mValueError\u001b[0m                                Traceback (most recent call last)",
      "Cell \u001b[0;32mIn[16], line 3\u001b[0m\n\u001b[1;32m      1\u001b[0m \u001b[38;5;28;01mimport\u001b[39;00m \u001b[38;5;21;01mnumpy\u001b[39;00m \u001b[38;5;28;01mas\u001b[39;00m \u001b[38;5;21;01mnp\u001b[39;00m\n\u001b[1;32m      2\u001b[0m daily_temperatures \u001b[38;5;241m=\u001b[39m np\u001b[38;5;241m.\u001b[39marray([\u001b[38;5;241m85\u001b[39m, \u001b[38;5;241m88\u001b[39m, \u001b[38;5;241m90\u001b[39m, \u001b[38;5;241m92\u001b[39m, \u001b[38;5;241m89\u001b[39m, \u001b[38;5;241m91\u001b[39m, \u001b[38;5;241m93\u001b[39m, \u001b[38;5;241m94\u001b[39m, \u001b[38;5;241m95\u001b[39m, \u001b[38;5;241m96\u001b[39m, \u001b[38;5;241m97\u001b[39m, \u001b[38;5;241m98\u001b[39m, \u001b[38;5;241m99\u001b[39m, \u001b[38;5;241m100\u001b[39m, \u001b[38;5;241m99\u001b[39m, \u001b[38;5;241m98\u001b[39m, \u001b[38;5;241m97\u001b[39m, \u001b[38;5;241m96\u001b[39m, \u001b[38;5;241m95\u001b[39m, \u001b[38;5;241m94\u001b[39m, \u001b[38;5;241m93\u001b[39m, \u001b[38;5;241m92\u001b[39m, \u001b[38;5;241m91\u001b[39m, \u001b[38;5;241m90\u001b[39m, \u001b[38;5;241m89\u001b[39m, \u001b[38;5;241m88\u001b[39m, \u001b[38;5;241m87\u001b[39m, \u001b[38;5;241m86\u001b[39m, \u001b[38;5;241m85\u001b[39m, \u001b[38;5;241m84\u001b[39m, \u001b[38;5;241m83\u001b[39m, \u001b[38;5;241m82\u001b[39m])\n\u001b[0;32m----> 3\u001b[0m weekly_averages \u001b[38;5;241m=\u001b[39m np\u001b[38;5;241m.\u001b[39mmean(\u001b[43mdaily_temperatures\u001b[49m\u001b[38;5;241;43m.\u001b[39;49m\u001b[43mreshape\u001b[49m\u001b[43m(\u001b[49m\u001b[38;5;241;43m-\u001b[39;49m\u001b[38;5;241;43m1\u001b[39;49m\u001b[43m,\u001b[49m\u001b[43m \u001b[49m\u001b[38;5;241;43m7\u001b[39;49m\u001b[43m)\u001b[49m, axis\u001b[38;5;241m=\u001b[39m\u001b[38;5;241m1\u001b[39m)\n\u001b[1;32m      4\u001b[0m \u001b[38;5;28mprint\u001b[39m(\u001b[38;5;124m\"\u001b[39m\u001b[38;5;124mWeekly Averages:\u001b[39m\u001b[38;5;124m\"\u001b[39m, weekly_averages)\n",
      "\u001b[0;31mValueError\u001b[0m: cannot reshape array of size 32 into shape (7)"
     ]
    }
   ],
   "source": [
    "import numpy as np\n",
    "daily_temperatures = np.array([85, 88, 90, 92, 89, 91, 93, 94, 95, 96, 97, 98, 99, 100, 99, 98, 97, 96, 95, 94, 93, 92, 91, 90, 89, 88, 87, 86, 85, 84, 83, 82])\n",
    "weekly_averages = np.mean(daily_temperatures.reshape(-1, 7), axis=1)\n",
    "print(\"Weekly Averages:\", weekly_averages)"
   ]
  },
  {
   "cell_type": "code",
   "execution_count": null,
   "id": "735e38be-1491-4746-9d55-1623142d9c02",
   "metadata": {},
   "outputs": [],
   "source": []
  }
 ],
 "metadata": {
  "kernelspec": {
   "display_name": "Python 3 (ipykernel)",
   "language": "python",
   "name": "python3"
  },
  "language_info": {
   "codemirror_mode": {
    "name": "ipython",
    "version": 3
   },
   "file_extension": ".py",
   "mimetype": "text/x-python",
   "name": "python",
   "nbconvert_exporter": "python",
   "pygments_lexer": "ipython3",
   "version": "3.10.8"
  }
 },
 "nbformat": 4,
 "nbformat_minor": 5
}
